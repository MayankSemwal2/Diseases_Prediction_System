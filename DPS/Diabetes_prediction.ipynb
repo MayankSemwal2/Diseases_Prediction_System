import numpy as np
import pandas as pd
from sklearn.model_selection import train_test_split
from sklearn import svm
from sklearn.linear_model import LogisticRegression
from sklearn.metrics import accuracy_score 
Data Collection and Analysis

db_ds = pd.read_csv('C:/Users/amans/OneDrive/Desktop/code/Multiple_D/diabetes.csv')

db_ds.shape

db_ds.describe()
db_ds['Outcome'].value_counts()
0 --> Non-Diabetic
1 --> Diabetic
db_ds.groupby('Outcome').mean()

x = db_ds.drop(columns = 'Outcome',  axis=1)
y = db_ds['Outcome']
print(x)
print(y)
print(x)
print(y)
Train Test Split
x_train, x_test, y_train, y_test = train_test_split(x, y, test_size = 0.2, stratify = y, random_state=2)
print(x.shape, x_train.shape, x_test.shape)
Training the Model
model=LogisticRegression().fit(x_train,y_train)
x_train_predict1 = model.predict(x_train)
train_data_accuracy1 = accuracy_score(x_train_predict1, y_train)
print(train_data_accuracy1)
x_test_predict1 = model.predict(x_test)
test_data_accuracy1 = accuracy_score(x_test_predict1, y_test)
print(test_data_accuracy1)
classifier = svm.SVC(kernel = 'linear')

classifier.fit(x_train, y_train)

x_test_predict = classifier.predict(x_train)
train_data_accuracy = accuracy_score(x_test_predict, y_train)
print('Accuracy score of train data : ', train_data_accuracy)
x_test_predict = classifier.predict(x_test)
test_data_accuracy = accuracy_score(x_test_predict, y_test)
print('Accuracy score of test data : ', test_data_accuracy)
Prediction System
input = (0,125,180,0,10,37.6,0.191,30)


numpy_input = np.asarray(input)


input_reshaped = numpy_input.reshape(1,-1)


prediction = classifier.predict(input_reshaped)

if(prediction[0] == 0):
    print('The person is non diabetic');
else:
    print('The person is diabetic');

Save trained model
import pickle as pi
filename = 'trained_model.sav'
pi.dump(classifier, open(filename, 'wb'))

loaded_model = pi.load(open('trained_model.sav', 'rb'))
input = (0,125,180,0,10,37.6,0.191,30)


numpy_input = np.asarray(input)


input_reshaped = numpy_input.reshape(1,-1)



prediction = loaded_model.predict(input_reshaped)
print(prediction)

if(prediction[0] == 0):
    print('The person is non diabetic')
else:
    print('The person is diabetic')
